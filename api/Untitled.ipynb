{
 "cells": [
  {
   "cell_type": "code",
   "execution_count": 1,
   "metadata": {},
   "outputs": [],
   "source": [
    "import pandas as pd"
   ]
  },
  {
   "cell_type": "code",
   "execution_count": 2,
   "metadata": {},
   "outputs": [],
   "source": [
    "df = pd.read_excel?"
   ]
  },
  {
   "cell_type": "code",
   "execution_count": 5,
   "metadata": {},
   "outputs": [
    {
     "name": "stdout",
     "output_type": "stream",
     "text": [
      "Index(['Stock Name', 'ISIN', 'Holding Quantity', 'Current Market Price'], dtype='object')\n"
     ]
    }
   ],
   "source": [
    "df = pd.read_excel(\"data.xlsx\",sheet_name=\"Equity Holdings\")\n",
    "print(df.columns)"
   ]
  },
  {
   "cell_type": "code",
   "execution_count": 6,
   "metadata": {},
   "outputs": [],
   "source": [
    "df[\"totalValue\"] = df['Holding Quantity']*df['Current Market Price']"
   ]
  },
  {
   "cell_type": "code",
   "execution_count": 7,
   "metadata": {},
   "outputs": [
    {
     "data": {
      "text/plain": [
       "0     26446512.90\n",
       "1      1229400.00\n",
       "2       266580.00\n",
       "3      4635039.45\n",
       "4     36832593.60\n",
       "5      3145318.40\n",
       "6     16063882.00\n",
       "7      2872800.00\n",
       "8     18960923.80\n",
       "9     28784942.10\n",
       "10    23246795.00\n",
       "11      674520.80\n",
       "12      321263.80\n",
       "13     1520084.40\n",
       "14     1249064.00\n",
       "15     3231600.00\n",
       "16     4344300.00\n",
       "17      603000.00\n",
       "18     5235120.00\n",
       "19     7732500.00\n",
       "20     4653000.00\n",
       "21    11009250.00\n",
       "22     3878100.00\n",
       "23    12556950.00\n",
       "24    33250500.00\n",
       "25     1405050.00\n",
       "26      292700.00\n",
       "27     3643895.50\n",
       "28     1295820.00\n",
       "29     2106000.00\n",
       "30      295260.00\n",
       "31    11720160.00\n",
       "32     1345948.00\n",
       "33    10270400.00\n",
       "34     1926321.45\n",
       "35     4535887.50\n",
       "36     2214150.00\n",
       "37     1123400.00\n",
       "38     6019656.00\n",
       "39    49833218.15\n",
       "40     3944102.60\n",
       "41    36351961.00\n",
       "42     2613240.00\n",
       "43     1484444.70\n",
       "44     2508104.75\n",
       "Name: totalValue, dtype: float64"
      ]
     },
     "execution_count": 7,
     "metadata": {},
     "output_type": "execute_result"
    }
   ],
   "source": [
    "df.totalValue"
   ]
  },
  {
   "cell_type": "code",
   "execution_count": 8,
   "metadata": {},
   "outputs": [
    {
     "data": {
      "text/plain": [
       "'{\"Stock Name\":{\"0\":\"Reliance Industries Ltd.\",\"1\":\"Yes Bank Ltd.\",\"2\":\"Bharti Infratel Ltd.\",\"3\":\"UPL Ltd.\",\"4\":\"Bajaj Finance Ltd.\",\"5\":\"Bharti Airtel Ltd.\",\"6\":\"Bajaj Finserv Ltd.\",\"7\":\"State Bank of India\",\"8\":\"Dr. Reddy\\'s Laboratories Ltd.\",\"9\":\"Bajaj Auto Ltd.\",\"10\":\"Hero MotoCorp Ltd.\",\"11\":\"Power Grid Corporation of India Ltd.\",\"12\":\"ITC Ltd.\",\"13\":\"Hindalco Industries Ltd.\",\"14\":\"Tata Motors Ltd.\",\"15\":\"Tata Steel Ltd.\",\"16\":\"Hindustan Unilever Ltd.\",\"17\":\"NTPC Ltd.\",\"18\":\"Housing Development Finance Corporation Ltd.\",\"19\":\"Tech Mahindra Ltd.\",\"20\":\"Wipro Ltd.\",\"21\":\"Tata Consultancy Services Ltd.\",\"22\":\"Britannia Industries Ltd.\",\"23\":\"Asian Paints Ltd.\",\"24\":\"Maruti Suzuki India Ltd.\",\"25\":\"ICICI Bank Ltd.\",\"26\":\"Oil & Natural Gas Corporation Ltd.\",\"27\":\"Kotak Mahindra Bank Ltd.\",\"28\":\"Larsen & Toubro Ltd.\",\"29\":\"Adani Ports and Special Economic Zone Ltd.\",\"30\":\"JSW Steel Ltd.\",\"31\":\"Nestle India Ltd.\",\"32\":\"Mahindra & Mahindra Ltd.\",\"33\":\"Titan Company Ltd.\",\"34\":\"Coal India Ltd.\",\"35\":\"Bharat Petroleum Corporation Ltd.\",\"36\":\"Axis Bank Ltd.\",\"37\":\"Indian Oil Corporation Ltd.\",\"38\":\"IndusInd Bank Ltd.\",\"39\":\"Eicher Motors Ltd.\",\"40\":\"Infosys Ltd.\",\"41\":\"UltraTech Cement Ltd.\",\"42\":\"Grasim Industries Ltd.\",\"43\":\"Sun Pharmaceutical Industries Ltd.\",\"44\":\"Zee Entertainment Enterprises Ltd.\"},\"ISIN\":{\"0\":\"INRELIND\",\"1\":\"INYESBNK\",\"2\":\"INBHAINF\",\"3\":\"INUPLLTD\",\"4\":\"INBAJFIN\",\"5\":\"INBHAAIR\",\"6\":\"INBAJFIS\",\"7\":\"INSBIBNK\",\"8\":\"INDRRDDY\",\"9\":\"INBAJAUT\",\"10\":\"INHERMOT\",\"11\":\"INPOWGRI\",\"12\":\"INITCLTD\",\"13\":\"INHINLTD\",\"14\":\"INTATAMO\",\"15\":\"INTATSTL\",\"16\":\"INHINUNI\",\"17\":\"INNTPCLT\",\"18\":\"INHDFCLT\",\"19\":\"INTECMAH\",\"20\":\"INWIPLTD\",\"21\":\"INTCSLTD\",\"22\":\"INBRILTD\",\"23\":\"INASIPAI\",\"24\":\"INMARLTD\",\"25\":\"INICIBNK\",\"26\":\"INONGCLT\",\"27\":\"INKOTBNK\",\"28\":\"INLNTLTD\",\"29\":\"INADAPOR\",\"30\":\"INJSWSTL\",\"31\":\"INNESIND\",\"32\":\"INMAHMAH\",\"33\":\"INTITLTD\",\"34\":\"INCOAIND\",\"35\":\"INBPCLTD\",\"36\":\"INAXIBNK\",\"37\":\"INIOCLTD\",\"38\":\"ININDBNK\",\"39\":\"INEICMOT\",\"40\":\"ININFYLT\",\"41\":\"INULTCEM\",\"42\":\"INGRAIND\",\"43\":\"INSUNPHA\",\"44\":\"INZEELTD\"},\"Holding Quantity\":{\"0\":18273,\"1\":18000,\"2\":1200,\"3\":7653,\"4\":8712,\"5\":8192,\"6\":1816,\"7\":9000,\"8\":6734,\"9\":8867,\"10\":8723,\"11\":3452,\"12\":1222,\"13\":7654,\"14\":7262,\"15\":8000,\"16\":2000,\"17\":5000,\"18\":2400,\"19\":10000,\"20\":18000,\"21\":5000,\"22\":1200,\"23\":7000,\"24\":4500,\"25\":3000,\"26\":2000,\"27\":2345,\"28\":900,\"29\":5400,\"30\":1200,\"31\":800,\"32\":2320,\"33\":8000,\"34\":9123,\"35\":8765,\"36\":3000,\"37\":8200,\"38\":4560,\"39\":2341,\"40\":5666,\"41\":8765,\"42\":3400,\"43\":3453,\"44\":8765},\"Current Market Price\":{\"0\":1447.3,\"1\":68.3,\"2\":222.15,\"3\":605.65,\"4\":4227.8,\"5\":383.95,\"6\":8845.75,\"7\":319.2,\"8\":2815.7,\"9\":3246.3,\"10\":2665.0,\"11\":195.4,\"12\":262.9,\"13\":198.6,\"14\":172.0,\"15\":403.95,\"16\":2172.15,\"17\":120.6,\"18\":2181.3,\"19\":773.25,\"20\":258.5,\"21\":2201.85,\"22\":3231.75,\"23\":1793.85,\"24\":7389.0,\"25\":468.35,\"26\":146.35,\"27\":1553.9,\"28\":1439.8,\"29\":390.0,\"30\":246.05,\"31\":14650.2,\"32\":580.15,\"33\":1283.8,\"34\":211.15,\"35\":517.5,\"36\":738.05,\"37\":137.0,\"38\":1320.1,\"39\":21287.15,\"40\":696.1,\"41\":4147.4,\"42\":768.6,\"43\":429.9,\"44\":286.15},\"totalValue\":{\"0\":26446512.8999999985,\"1\":1229400.0,\"2\":266580.0,\"3\":4635039.4500000002,\"4\":36832593.6000000015,\"5\":3145318.3999999999,\"6\":16063882.0,\"7\":2872800.0,\"8\":18960923.799999997,\"9\":28784942.1000000015,\"10\":23246795.0,\"11\":674520.8,\"12\":321263.8,\"13\":1520084.3999999999,\"14\":1249064.0,\"15\":3231600.0,\"16\":4344300.0,\"17\":603000.0,\"18\":5235120.0,\"19\":7732500.0,\"20\":4653000.0,\"21\":11009250.0,\"22\":3878100.0,\"23\":12556950.0,\"24\":33250500.0,\"25\":1405050.0,\"26\":292700.0,\"27\":3643895.5,\"28\":1295820.0,\"29\":2106000.0,\"30\":295260.0,\"31\":11720160.0,\"32\":1345948.0,\"33\":10270400.0,\"34\":1926321.45,\"35\":4535887.5,\"36\":2214150.0,\"37\":1123400.0,\"38\":6019656.0,\"39\":49833218.150000006,\"40\":3944102.6000000001,\"41\":36351961.0,\"42\":2613240.0,\"43\":1484444.7,\"44\":2508104.75}}'"
      ]
     },
     "execution_count": 8,
     "metadata": {},
     "output_type": "execute_result"
    }
   ],
   "source": [
    "df.to_json()"
   ]
  },
  {
   "cell_type": "code",
   "execution_count": null,
   "metadata": {},
   "outputs": [],
   "source": []
  }
 ],
 "metadata": {
  "kernelspec": {
   "display_name": "Python 3",
   "language": "python",
   "name": "python3"
  },
  "language_info": {
   "codemirror_mode": {
    "name": "ipython",
    "version": 3
   },
   "file_extension": ".py",
   "mimetype": "text/x-python",
   "name": "python",
   "nbconvert_exporter": "python",
   "pygments_lexer": "ipython3",
   "version": "3.7.4"
  }
 },
 "nbformat": 4,
 "nbformat_minor": 2
}
