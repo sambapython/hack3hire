{
 "cells": [
  {
   "cell_type": "code",
   "execution_count": null,
   "metadata": {},
   "outputs": [],
   "source": [
    "import pandas as pd\n",
    "path=\"data.xlsx\"\n",
    "equity_holding = pd.read_excel(path,sheet_name=\"Equity Holdings\")\n",
    "equity_holding[\"totalEquityExposure\"] = equity_holding['Holding Quantity']*equity_holding['Current Market Price']\n",
    "futures_holdings = pd.read_excel(path, sheet_name=\"Futures Holdings\")\n",
    "nifty_index = pd.read_excel(path,sheet_name=\"NIFTY Index\")\n",
    "bank_nifty_index = pd.read_excel(path, sheet_name=\"BANK NIFTY Index\")\n",
    "itnifty_index = pd.read_excel(path, sheet_name=\"ITNIFTY Index\")\n",
    "NIFTY_Futures=futures_holdings[futures_holdings[\"Future Contract\"] == \"NIFTY Futures\"]\n",
    "BANKNIFTY_Futures=futures_holdings[futures_holdings[\"Future Contract\"] == \"BANKNIFTY Futures\"]\n",
    "NIFTYIT_Futures = futures_holdings[futures_holdings[\"Future Contract\"] == \"NIFTYIT Futures\"]\n",
    "BANKNIFTY_Futures_val = BANKNIFTY_Futures['Lot Size']*BANKNIFTY_Futures['Holding Lots']*BANKNIFTY_Futures['Current Market Price of FUTURES contract']\n",
    "NIFTYIT_Futures_val = NIFTYIT_Futures['Lot Size']*NIFTYIT_Futures['Holding Lots']*NIFTYIT_Futures['Current Market Price of FUTURES contract']\n",
    "NIFTY_Futures_val = NIFTY_Futures['Lot Size']*NIFTY_Futures['Holding Lots']*NIFTY_Futures['Current Market Price of FUTURES contract']\n",
    "print(NIFTY_Futures_val)\n",
    "print(NIFTYIT_Futures_val)\n",
    "print(BANKNIFTY_Futures_val)\n",
    "futures_holdings[\"totalfeatureHoldings\"]=futures_holdings[\"Lot Size\"].map(lambda x:0)\n",
    "data = []\n",
    "for ind in futures_holdings.index:\n",
    "    row= futures_holdings.loc[ind]\n",
    "    lors = row[\"Long or Short\"]\n",
    "    if lors == \"Long\":\n",
    "        val = row['Lot Size']*row['Holding Lots']*row['Current Market Price of FUTURES contract']\n",
    "    else:\n",
    "        val = row['Lot Size']*-1*row['Holding Lots']*row['Current Market Price of FUTURES contract']\n",
    "    data.append(val)\n",
    "futures_holdings[\"totalfeatureHoldings\"] = data"
   ]
  }
 ],
 "metadata": {
  "kernelspec": {
   "display_name": "Python 3",
   "language": "python",
   "name": "python3"
  },
  "language_info": {
   "codemirror_mode": {
    "name": "ipython",
    "version": 3
   },
   "file_extension": ".py",
   "mimetype": "text/x-python",
   "name": "python",
   "nbconvert_exporter": "python",
   "pygments_lexer": "ipython3",
   "version": "3.7.4"
  }
 },
 "nbformat": 4,
 "nbformat_minor": 2
}
