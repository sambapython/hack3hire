{
 "cells": [
  {
   "cell_type": "code",
   "execution_count": 2,
   "metadata": {},
   "outputs": [],
   "source": [
    "import pandas as pd\n",
    "path=\"data.xlsx\"\n",
    "equity_holding = pd.read_excel(path,sheet_name=\"Equity Holdings\")\n",
    "equity_holding[\"totalEquityExposure\"] = equity_holding['Holding Quantity']*equity_holding['Current Market Price']\n",
    "futures_holdings = pd.read_excel(path, sheet_name=\"Futures Holdings\")\n",
    "nifty_index = pd.read_excel(path,sheet_name=\"NIFTY Index\")\n",
    "bank_nifty_index = pd.read_excel(path, sheet_name=\"BANK NIFTY Index\")\n",
    "itnifty_index = pd.read_excel(path, sheet_name=\"ITNIFTY Index\")"
   ]
  },
  {
   "cell_type": "code",
   "execution_count": null,
   "metadata": {},
   "outputs": [],
   "source": []
  },
  {
   "cell_type": "code",
   "execution_count": 11,
   "metadata": {},
   "outputs": [],
   "source": [
    "'''\n",
    "futures_holdings_nifty=futures_holdings[futures_holdings['Underlying Name'] in \"NIFTY \")]\n",
    "futures_holdings_nifty_banknifty = futures_holdings[futures_holdings['Underlying Name'] in(\"BANKNIFTY \")]\n",
    "futures_holdings_nifty_niftyit = futures_holdings[futures_holdings['Underlying Name'] in(\"NIFTYIT \")]\n",
    "'''\n",
    "futures_holdings[\"Future contract total\"] = futures_holdings[\"Lot Size\"]*futures_holdings[\"Holding Lots\"]*futures_holdings[\"Current Market Price of FUTURES contract\"]\n"
   ]
  },
  {
   "cell_type": "code",
   "execution_count": 22,
   "metadata": {},
   "outputs": [
    {
     "name": "stdout",
     "output_type": "stream",
     "text": [
      "0    44625000\n",
      "dtype: int64\n",
      "5    58593750\n",
      "dtype: int64\n",
      "1    75000000\n",
      "dtype: int64\n"
     ]
    }
   ],
   "source": [
    "import pandas as pd\n",
    "path=\"data.xlsx\"\n",
    "equity_holding = pd.read_excel(path,sheet_name=\"Equity Holdings\")\n",
    "equity_holding[\"totalEquityExposure\"] = equity_holding['Holding Quantity']*equity_holding['Current Market Price']\n",
    "futures_holdings = pd.read_excel(path, sheet_name=\"Futures Holdings\")\n",
    "nifty_index = pd.read_excel(path,sheet_name=\"NIFTY Index\")\n",
    "bank_nifty_index = pd.read_excel(path, sheet_name=\"BANK NIFTY Index\")\n",
    "itnifty_index = pd.read_excel(path, sheet_name=\"ITNIFTY Index\")\n",
    "NIFTY_Futures=futures_holdings[futures_holdings[\"Future Contract\"] == \"NIFTY Futures\"]\n",
    "BANKNIFTY_Futures=futures_holdings[futures_holdings[\"Future Contract\"] == \"BANKNIFTY Futures\"]\n",
    "NIFTYIT_Futures = futures_holdings[futures_holdings[\"Future Contract\"] == \"NIFTYIT Futures\"]\n",
    "BANKNIFTY_Futures_val = BANKNIFTY_Futures['Lot Size']*BANKNIFTY_Futures['Holding Lots']*BANKNIFTY_Futures['Current Market Price of FUTURES contract']\n",
    "NIFTYIT_Futures_val = NIFTYIT_Futures['Lot Size']*NIFTYIT_Futures['Holding Lots']*NIFTYIT_Futures['Current Market Price of FUTURES contract']\n",
    "NIFTY_Futures_val = NIFTY_Futures['Lot Size']*NIFTY_Futures['Holding Lots']*NIFTY_Futures['Current Market Price of FUTURES contract']\n",
    "print(NIFTY_Futures_val)\n",
    "print(NIFTYIT_Futures_val)\n",
    "print(BANKNIFTY_Futures_val)"
   ]
  },
  {
   "cell_type": "code",
   "execution_count": null,
   "metadata": {},
   "outputs": [],
   "source": [
    "futures_holdings[\"totalfeatureHoldings\"]=futures_holdings[\"Lot Size\"].map(lambda x:0)\n",
    "data = []\n",
    "for ind in futures_holdings.index:\n",
    "    row= futures_holdings.loc[ind]\n",
    "    lors = row[\"Long or Short\"]\n",
    "    if lors == \"Long\":\n",
    "        val = row['Lot Size']*row['Holding Lots']*row['Current Market Price of FUTURES contract']\n",
    "    else:\n",
    "        val = row['Lot Size']*-1*row['Holding Lots']*row['Current Market Price of FUTURES contract']\n",
    "    data.append(val)\n",
    "futures_holdings[\"totalfeatureHoldings\"] = data"
   ]
  },
  {
   "cell_type": "code",
   "execution_count": 29,
   "metadata": {},
   "outputs": [
    {
     "data": {
      "text/plain": [
       "0     0\n",
       "1     0\n",
       "2     0\n",
       "3     0\n",
       "4     0\n",
       "5     0\n",
       "6     0\n",
       "7     0\n",
       "8     0\n",
       "9     0\n",
       "10    0\n",
       "11    0\n",
       "12    0\n",
       "13    0\n",
       "14    0\n",
       "15    0\n",
       "Name: totalfeatureHoldings, dtype: int64"
      ]
     },
     "execution_count": 29,
     "metadata": {},
     "output_type": "execute_result"
    }
   ],
   "source": [
    "futures_holdings[\"totalfeatureHoldings\"]"
   ]
  },
  {
   "cell_type": "code",
   "execution_count": null,
   "metadata": {},
   "outputs": [],
   "source": []
  }
 ],
 "metadata": {
  "kernelspec": {
   "display_name": "Python 3",
   "language": "python",
   "name": "python3"
  },
  "language_info": {
   "codemirror_mode": {
    "name": "ipython",
    "version": 3
   },
   "file_extension": ".py",
   "mimetype": "text/x-python",
   "name": "python",
   "nbconvert_exporter": "python",
   "pygments_lexer": "ipython3",
   "version": "3.7.4"
  }
 },
 "nbformat": 4,
 "nbformat_minor": 2
}
